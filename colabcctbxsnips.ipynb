{
  "nbformat": 4,
  "nbformat_minor": 0,
  "metadata": {
    "colab": {
      "name": "cctbxsnips.ipynb",
      "provenance": [],
      "collapsed_sections": [],
      "toc_visible": true
    },
    "kernelspec": {
      "name": "python3",
      "display_name": "Python 3"
    }
  },
  "cells": [
    {
    "cell_type": "markdown",
    "metadata": {
      "id": "dcf0e907c68e"
      },
      "source": [
        "##millerMtzImports\n",
        "\n",
        "Read a mtz file into a miller array.\n",
        "\n",
        "*Python*"
      ]
    },
    {
    "cell_type": "code",
    "metadata": {
      "id": "d9ecaaef4558"
      },
      "source": [
      "from iotbx.reflection_file_reader import any_reflection_file\n",
      "hkl_file = any_reflection_file('3hz7.mtz')\n",
      "miller_arrays = hkl_file.as_miller_arrays(merge_equivalents=False)\n",
      "$0"
      ]
    },
    {
    "cell_type": "markdown",
    "metadata": {
      "id": "3af47b81cfaf"
      },
      "source": [
        "##millerArrayLabels\n",
        "\n",
        "Print column labels in a Miller array.\n",
        "\n",
        "*Python*"
      ]
    },
    {
    "cell_type": "code",
    "metadata": {
      "id": "ba53b9e76b81"
      },
      "source": [
      "[print('Miller Array %s: %s' % (i, miller_array.info().labels)) for i, miller_array in list(enumerate(miller_arrays))[:2]]\n",
      "$0"
      ]
    },
    {
    "cell_type": "markdown",
    "metadata": {
      "id": "c09db6366a41"
      },
      "source": [
        "##millerArrayWavelengths\n",
        "\n",
        "Print wavelengths of each miller array.\n",
        "\n",
        "*Python*"
      ]
    },
    {
    "cell_type": "code",
    "metadata": {
      "id": "646a7ccb5d21"
      },
      "source": [
      "[print('Miller Array %s: %s' % (i, miller_array.info().wavelength)) for i, miller_array in list(enumerate(miller_arrays))]\n",
      "$0"
      ]
    },
    {
    "cell_type": "markdown",
    "metadata": {
      "id": "64b8665b446b"
      },
      "source": [
        "##millerArraySources\n",
        "\n",
        "Print the source of each miller array.\n",
        "\n",
        "*Python*"
      ]
    },
    {
    "cell_type": "code",
    "metadata": {
      "id": "b26aae4cf6fb"
      },
      "source": [
      "print('Miller Array %s: %s' % (i, miller_array.info().source)) for i, miller_array in list(enumerate(miller_arrays))]\n",
      "$0"
      ]
    },
    {
    "cell_type": "markdown",
    "metadata": {
      "id": "abc6689a715c"
      },
      "source": [
        "##millerArrayLengths\n",
        "\n",
        "Print length of miller arrays (i.e., the number of datasets in a mtz file).\n",
        "\n",
        "*Python*"
      ]
    },
    {
    "cell_type": "code",
    "metadata": {
      "id": "8c86ed653f0"
      },
      "source": [
      "len(miller_arrays)\n",
      "$0"
      ]
    },
    {
    "cell_type": "markdown",
    "metadata": {
      "id": "d85da17ee8ec"
      },
      "source": [
        "##millerArraySymmetry\n",
        "\n",
        "Print the crystal symmetry of each miller array.\n",
        "\n",
        "*Python*"
      ]
    },
    {
    "cell_type": "code",
    "metadata": {
      "id": "6c5bf21f5dce"
      },
      "source": [
      "[print('Miller Array %s: %s' % (i, miller_array.info().crystal_symmetry_from_file)) for i, miller_array in list(enumerate(miller_arrays))]\n",
      "$0"
      ]
    },
    {
    "cell_type": "markdown",
    "metadata": {
      "id": "473d70b5d03b"
      },
      "source": [
        "##millerArrayHKLs\n",
        "\n",
        "Print all of the miller indices for a given Miller array.\n",
        "\n",
        "*Python*"
      ]
    },
    {
    "cell_type": "code",
    "metadata": {
      "id": "b6e4bf24eae1"
      },
      "source": [
      "[print(hkl) for hkl in miller_arrays[0].indices()]\n",
      "$0"
      ]
    },
    {
    "cell_type": "markdown",
    "metadata": {
      "id": "6e6048be64c"
      },
      "source": [
        "##millerArrayMethods\n",
        "\n",
        "Print the available methods for the Miller class.\n",
        "\n",
        "*Python*"
      ]
    },
    {
    "cell_type": "code",
    "metadata": {
      "id": "afb79ab1a5d4"
      },
      "source": [
      "dir(miller_arrays[0])\n",
      "$0"
      ]
    },
    {
    "cell_type": "markdown",
    "metadata": {
      "id": "5a353e9379e1"
      },
      "source": [
        "##millerArraydstar\n",
        "\n",
        "Return the resolution range in d* in a specified Miller array.\n",
        "\n",
        "*Python*"
      ]
    },
    {
    "cell_type": "code",
    "metadata": {
      "id": "1481b6acccac"
      },
      "source": [
      "miller_arrays[0].min_max_d_star_sq()\n",
      "$0"
      ]
    },
    {
    "cell_type": "markdown",
    "metadata": {
      "id": "91c34a69bd19"
      },
      "source": [
        "##millerArrayDminDmax\n",
        "\n",
        "Return the resolution range in Angstroms for a Miller array.\n",
        "\n",
        "*Python*"
      ]
    },
    {
    "cell_type": "code",
    "metadata": {
      "id": "36c21ca4be8e"
      },
      "source": [
      "miller_arrays[0].d_max_min()\n",
      "$0"
      ]
    },
    {
    "cell_type": "markdown",
    "metadata": {
      "id": "ab7949a18f39"
      },
      "source": [
        "##millerArrayIsigma
\n",
        "\n",
        "Return the I/sig overall for a given Miller array.\n",
        "\n",
        "*Python*"
      ]
    },
    {
    "cell_type": "code",
    "metadata": {
      "id": "32f94558e2f2"
      },
      "source": [
      "miller_arrays[0].i_over_sig_i()\n",
      "$0"
      ]
    },
    {
    "cell_type": "markdown",
    "metadata": {
      "id": "1f52a60a517d"
      },
      "source": [
        "##millerArrayCC\n",
        "\n",
        "Return CC one-half sigma tau for a given Miller array.\n",
        "\n",
        "*Python*"
      ]
    },
    {
    "cell_type": "code",
    "metadata": {
      "id": "49916ae1cd5b"
      },
      "source": [
      "miller_arrays[0].cc_one_half_sigma_tau()\n",
      "$0"
      ]
    },
    {
    "cell_type": "markdown",
    "metadata": {
      "id": "262d89a093f2"
      },
      "source": [
        "##millerArrayCConeHalf\n",
        "\n",
        "Return CC one-half for a given Miller array. \n",
        "\n",
        "*Python*"
      ]
    },
    {
    "cell_type": "code",
    "metadata": {
      "id": "8fc07153afef"
      },
      "source": [
      "miller_arrays[0].cc_one_half()\n",
      "$0"
      ]
    },
    {
    "cell_type": "markdown",
    "metadata": {
      "id": "694c38b4b4f5"
      },
      "source": [
        "##millerArrayBijvoetRatios\n",
        "\n",
        "Print the Bijvoet ratios in a specified Miller array.  May have to average by bin first.\n",
        "\n",
        "*Python*"
      ]
    },
    {
    "cell_type": "code",
    "metadata": {
      "id": "b789b7bf6c4a"
      },
      "source": [
      "[print(i) for i in miller_arrays[0].bijvoet_ratios()]\n",
      "$0"
      ]
    },
    {
    "cell_type": "markdown",
    "metadata": {
      "id": "40c0caf6dc5c"
      },
      "source": [
        "##millerArrayMeasurability\n",
        "\n",
        "Return the `measurability` of the anomalous signal in a specified Miller array.\n",
        "\n",
        "*Python*"
      ]
    },
    {
    "cell_type": "code",
    "metadata": {
      "id": "fcb1791c3198"
      },
      "source": [
      "miller_arrays[0].measurability()\n",
      "$0"
      ]
    },
    {
    "cell_type": "markdown",
    "metadata": {
      "id": "dd9d7112b51f"
      },
      "source": [
        "##millerArrayAnomalousSignal\n",
        "\n",
        "Return the anomalous signal in a specified Miller array.\n",
        "\n",
        "*Python*"
      ]
    },
    {
    "cell_type": "code",
    "metadata": {
      "id": "a48c8e5e855a"
      },
      "source": [
      "miller_arrays[0].anomalous_signal()\n",
      "$0"
      ]
    },
    {
    "cell_type": "markdown",
    "metadata": {
      "id": "538da4ecd606"
      },
      "source": [
        "##millerArrayComprehensiveSummary\n",
        "\n",
        "Show comprehensive summary for a specified Miller array. \n",
        "\n",
        "*Python*"
      ]
    },
    {
    "cell_type": "code",
    "metadata": {
      "id": "4ed3774c3e1"
      },
      "source": [
      "miller_arrays[0].show_comprehensive_summary()\n",
      "$0"
      ]
    },
  ]
}
