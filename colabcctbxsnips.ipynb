{
  "nbformat": 4,
  "nbformat_minor": 0,
  "metadata": {
    "colab": {
      "name": "Pbar_Start_cctbx.ipynb",
      "provenance": [],
      "collapsed_sections": []
    },
    "kernelspec": {
      "name": "python3",
      "display_name": "Python 3"
    },
    "language_info": {
      "name": "python"
    },
    "gpuClass": "standard"
  },
  "cells": [
    {
      "cell_type": "markdown",
      "source": [
        "# Install the snippet notebook\n",
        "\n",
        "Store the snippet notebook on your Google Drive. Then copy the updated URL to \n",
        "Tools --> Settings --> Site --> Custom snippet notebook URL. Then when you open \n",
        "a new notebook, the snippets will be available.\n",
        "\n",
        "1.   File --> Save Copy in Drive\n",
        "2.   Tools --> Settings --> Site --> Custom snippet notebook URL\n"
      ],
      "metadata": {
        "id": "jda5IgVWoB0v"
      }
    },
    {
      "cell_type": "code",
      "execution_count": null,
      "metadata": {
        "id": "ft3z-TiIKKmM"
      },
      "outputs": [],
      "source": [
        "# Install condacolab so that conda packages can be used\n",
        "# https://github.com/conda-incubator/condacolab\n",
        "#\n",
        "# Important notes\n",
        "# https://github.com/conda-incubator/condacolab#shortcomings\n",
        "# 1) The kernel will automatically be restarted and show an error message about\n",
        "#    a crash (\"Your session crashed for an unknown reason\").\n",
        "#    The error can be ignored.\n",
        "# 2) Only the \"base\" environment is available, so do not create a separate \n",
        "#    environment for pacakges.\n",
        "from IPython.utils import io\n",
        "import tqdm.notebook\n",
        "\n",
        "total = 50\n",
        "\n",
        "with tqdm.notebook.tqdm(total=total) as pbar:\n",
        "    with io.capture_output() as captured:\n",
        "\n",
        "        !pip install -q condacolab\n",
        "\n",
        "        pbar.update(10)\n",
        "\n",
        "        import condacolab\n",
        "        condacolab.install()\n",
        "\n",
        "        pbar.update(40)\n",
        "\n",
        "# An error message will appear at the bottom of the notebook about \n",
        "# your session crashing for an unknown reason. Click on the X and \n",
        "# run the next cell.     "
      ]
    },
    {
      "cell_type": "code",
      "source": [
        "\n",
        "with tqdm.notebook.tqdm(total=total) as pbar:\n",
        "    with io.capture_output() as captured:\n",
        "\n",
        "        # Install cctbx-base\n",
        "        # Wait until the error message appears near the bottom of the notebook before\n",
        "        # proceeding.\n",
        "\n",
        "        # By default, condacolab installs both conda and mamba. Generally, mamba will\n",
        "        # be faster when resolving dependencies.\n",
        "        !mamba install -q cctbx-base\n",
        "        pbar.update(10)\n",
        "        # conda installs ${CONDA_PREFIX}/share/cctbx into /usr/local instead of /usr\n",
        "        # Make a copy to avoid errors\n",
        "        !cp -af /usr/local/share/cctbx /usr/share/\n",
        "\n",
        "        # sys.path does not have some directories with libraries, so add them here\n",
        "        import sys\n",
        "        for d in ['/usr/local/lib/python3.7/lib-dynload', '/usr/local/lib']:\n",
        "          if d not in sys.path:\n",
        "            sys.path.insert(0, d)\n",
        "        pbar.update(10)\n",
        "        # final check\n",
        "        import os\n",
        "        if os.path.isdir('/usr/local/share/cctbx') \\\n",
        "          and '/usr/local/lib/python3.7/lib-dynload' in sys.path \\\n",
        "          and '/usr/local/lib' in sys.path:\n",
        "          print('Finished installing cctbx-base')\n",
        "        else:\n",
        "          raise RuntimeError('There was an error fixing up the installation of cctbx-base')\n",
        "        pbar.update(30)"
      ],
      "metadata": {
        "id": "TFtfP--2Kdnn"
      },
      "execution_count": null,
      "outputs": []
    },
    {
      "cell_type": "code",
      "source": [
        "# Start running cctbx code\n",
        "# Thanks to Georg Mlynek for this example!\n",
        "from cctbx import crystal, miller\n",
        "\n",
        "crystal_symmetry = crystal.symmetry((10, 20, 30, 90, 90, 90), 'P212121')\n",
        "ms = miller.build_set(\n",
        "    crystal_symmetry=crystal_symmetry,\n",
        "    anomalous_flag=True,\n",
        "    d_min=2,\n",
        "    d_max=10\n",
        ")\n",
        "crystal_symmetry.show_summary()\n",
        "print('Resolution range', ms.d_max_min())\n",
        "print('Number of reflections', ms.indices().size())"
      ],
      "metadata": {
        "id": "jug2vYAgLpQF"
      },
      "execution_count": null,
      "outputs": []
    },
    {
    "cell_type": "markdown",
    "metadata": {
      "id": "538da4ecd606"
      },
      "source": [
        "##millerArrayComprehensiveSummary\n",
        "\n",
        "Show comprehensive summary for a specified Miller array. \n",
        "\n",
        "*Python*"
      ]
    },
    {
    "cell_type": "code",
    "metadata": {
      "id": "4ed3774c3e1"
      },
      "source": [
      "miller_arrays[0].show_comprehensive_summary()\n"
      ]
    }
  ]
}