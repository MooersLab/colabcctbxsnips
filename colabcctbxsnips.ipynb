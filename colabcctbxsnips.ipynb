{
  "nbformat": 4,
  "nbformat_minor": 0,
  "metadata": {
    "colab": {
      "name": "cctbxsnips.ipynb",
      "provenance": [],
      "collapsed_sections": [],
      "toc_visible": true
    },
    "kernelspec": {
      "name": "python3",
      "display_name": "Python 3"
    }
  },
  "cells": [
    {
        "cell_type": "markdown",
        "metadata": {,
          "id": "view-in-github",
          "colab_type": "text"
        },
        "source": [
          "<a href="https://colab.research.google.com/github/MooersLab/colabcctbxsnips/blob/main/colabcctbxsnips.ipynb" target="_parent"><img src="https://colab.research.google.com/assets/colab-badge.svg" alt="Open In Colab"/></a>"
        ]
      },
    {
      "cell_type": "markdown",
      "metadata": {
        "id": "8VnuJhH3xKMm"
      },
      "source": [
       "##installCCTBX",
       "\n",
       "**Colab cctbx snippets library, 30 April 2022**",
       "\n",
       "Source: https://github.com/MooersLab/colabcctbxsnips",
       "\n",
       "The cctbx code snippets are embedded in this notebook and are accessed via <> in the left margin.",
       "First, install this notebook on Google Drive and then open the notebook from Colab. The url of the notebook",
       "will include the path to the notebook on Google Drive. Enter this addess in `Tools/settings/site` pulldown menu",
       "on the shaded line labeled `Custom snippet notebook url`. The url will appear below. The snippets will always be availabe",
       "when you log into Colab until you delete or move them from Google Drive. If you click on the X to the left of the ",
       "notebook, the snippet notebook will be disabled. Multiple notebooks of snippets can be loaded and will appear in the list. ",
       "\n",
       "The snippet called `installcctbx` is the first cell of the notebook. ",
       "It installs anaconda and then installs cctbx.",
       "Clicking on the triangular button in the upper left will execute these",
       "steps.",
       "\n",
       "Click the arrow in the upper left to see the code in the code block.",
       "Click the arrow in the lower left to run the code in the code block.",
       "The code will run with the code block either hidden or revealed. If the code block is revealed,",
       "a small green arrow in the left margin will point to the current line of code that,",
       "is being executed. In addition, a progress bar will show the install progress.",
       "The install time was 6 minutes 20 seconds on December 8, 2021. The install times can vary.",
       "Google will ask to access your Google Drive unless you comment out the code that loads",
       "the PyMOL license from Google Drive. The message that the session crashed may appear,",
       "but all may still be well. Try the test code in the block below. You may get a message that",
       " PyMOL is not running and has entered the library mode. PyMOL is actually running and all will be well.",
       "\n",
       "The installed code can be archived in a tar file and the tar file can be stored on your Google Drive account.",
       "You can then loaded the tar file in `/content` and untar it. This may be faster and may be immune to changes in",
       "PyMOL or anaconda code.",
       "\n"
      ]
    },
    {
      "cell_type": "code",
      "execution_count": 1,
      "metadata": {
        "colab": {
          "base_uri": "https://localhost:8080/",
          "height": 49,
          "referenced_widgets": [
            "96f079335e774ebbaa4477261ec171e1",
            "41dfdb5dd33a46d98563338c338a31e2",
            "e409c388b8364c2da9d468ad07718c14",
            "46aa272ad47749df9e53af783e647a20",
            "320c3d5b13a24e3a98e430da88782a8c",
            "d43b986a761e4b589b3b2071e2fa01fe",
            "accd6d4cdebc4d49bdf173e4d11f0523",
            "00280f5d8bdf4bc8b5a50bffe4fe43e4",
            "bb2456e95c2e46e2b83a10360f8e52b3",
            "91b6f48439614ddb88dd204f38e02de0",
            "6c4c8d9a37c54ac3b6c7b2ad2d207d24"
          ]
        },
        "id": "e7-vhOUGsquT",
        "outputId": "6b981647-f348-4e71-bb5e-3fb55814ef26"
      },
      "outputs": [
        {
          "output_type": "display_data",
          "data": {
            "application/vnd.jupyter.widget-view+json": {
              "model_id": "96f079335e774ebbaa4477261ec171e1",
              "version_minor": 0,
              "version_major": 2
            },
            "text/plain": [
              "  0%|          | 0/100 [00:00<?, ?it/s]"
            ]
          },
          "metadata": {}
        }
      ],
      "source": [
        "from IPython.utils import io\n",
        "import tqdm.notebook\n",
        "import os",
        "\n",
        "\"\"\"",
        "The cctbx installation is done inside two nested context managers to track the progress. This approach\n",
        "was inspired by Dr. Christopher Schlicksup's (of the Phenix group at\n",
        "Lawrence Berkeley National Laboratory) method for installing cctbx\n",
        "in a Colab Notebook. He presented his work on September 1, 2021 at the IUCr\n",
        "Crystallographic Computing School. I streamlined Chris's approach here by replacing the use of miniconda with mamba. It replaces my first approach\n",
        "that required seven steps. My approach was presentated at the SciPy2021 conference\n",
        "in July 2021 and published in the\n",
        "[proceedings](http://conference.scipy.org/proceedings/scipy2021/blaine_mooers.html).\n",
        "The new approach is easier for beginners to use. The old approach is easier to debug\n",
        "and could be used as a back-up approach.\n",
        "\"\"\"",
        "total = 100",
        "\n",
        "with tqdm.notebook.tqdm(total=total) as pbar:\n",
        "    with io.capture_output() as captured:\n",
        "\n",
        "        !pip install -q condacolab\n",
        "        pbar.update(30)\n",
        "        import condacolab\n",
        "        condacolab.install()\n",
        "        pbar.update(70)\n",
        "\n",
        "\"\"\"",
        "An error message will appear at the bottom of the notebook about\n",
        "your session crashing for an unknown reason. Click on the X to close \n",
        "the window and run the next cell.\n",
        "\"\"\"",
        "\n",
      ]
    },
    {
      "cell_type": "code",
      "source": [
        "with tqdm.notebook.tqdm(total=total) as pbar:
",
        "    with io.capture_output() as captured:
",
        "
",
        "        \"\"\"",
        "        Install cctbx-base
",
        "        Condacolab installs both conda and mamba. 
",
        "        Mamba is faster at resolving dependencies.
",
        "        \"\"\"",
        "        !mamba install -q cctbx-base
",
        "        pbar.update(10)
",
        "        \"\"\"",
        "        conda installs ${CONDA_PREFIX}/share/cctbx into /usr/local instead of /usr
",
        "        Make a copy to avoid errors
",
        "        \"\"\"",
        "        !cp -af /usr/local/share/cctbx /usr/share/
",
        "
",
        "        # sys.path does not have some directories with libraries, so add them here
",
        "        import sys
",
        "        for d in ['/usr/local/lib/python3.7/lib-dynload', '/usr/local/lib']:
",
        "          if d not in sys.path:
",
        "            sys.path.insert(0, d)
",
        "        pbar.update(10)
",
        "        # final check
",
        "        import os
",
        "        if os.path.isdir('/usr/local/share/cctbx') \
",
        "          and '/usr/local/lib/python3.7/lib-dynload' in sys.path \
",
        "          and '/usr/local/lib' in sys.path:
",
        "          print('Finished installing cctbx-base')
",
        "        else:
",
        "          raise RuntimeError('There was an error fixing up the installation of cctbx-base')
",
        "        pbar.update(30)",
        "\n",
      ]
    },
    {
      "cell_type": "markdown",
      "metadata": {
        "id": "UkPZB5N3x2cm"
      },
      "source": [
        "##testCCTBX",
        "\n",
        "**Test run of cctbx**",
        "The code below will import the map_model_manager and generate a sample model and map.\n",
      ]
    },
    {
      "cell_type": "code",
      "metadata": {
        "id": "Cd0pGk_zx09a"
      },
      "source": [
        "from iotbx.map_model_manager import map_model_manager\n",
        "mmm=map_model_manager()\n",
        "mmm.generate_map()\n",
        "show(mmm)\n",
          ]
    },
    {
    "cell_type": "markdown",
    "metadata": {
      "id": "91b6272cdc04"
      },
      "source": [
        "##millerMtzImports\n",
        "\n",
        "Read a mtz file into a miller array.\n",
        "\n",
        "*Python*"
      ]
    },
    {
    "cell_type": "code",
    "metadata": {
      "id": "a9d6be2e357f"
      },
      "source": [
      "from iotbx.reflection_file_reader import any_reflection_file\n",
      "hkl_file = any_reflection_file('3hz7.mtz')\n",
      "miller_arrays = hkl_file.as_miller_arrays(merge_equivalents=False)\n",
      "$0"
      ]
    },
    {
    "cell_type": "markdown",
    "metadata": {
      "id": "c5ef92cd90d7"
      },
      "source": [
        "##millerArrayLabels\n",
        "\n",
        "Print column labels in a Miller array.\n",
        "\n",
        "*Python*"
      ]
    },
    {
    "cell_type": "code",
    "metadata": {
      "id": "b14580bf08af"
      },
      "source": [
      "[print('Miller Array %s: %s' % (i, miller_array.info().labels)) for i, miller_array in list(enumerate(miller_arrays))[:2]]\n",
      "$0"
      ]
    },
    {
    "cell_type": "markdown",
    "metadata": {
      "id": "4a80de127197"
      },
      "source": [
        "##millerArrayWavelengths\n",
        "\n",
        "Print wavelengths of each miller array.\n",
        "\n",
        "*Python*"
      ]
    },
    {
    "cell_type": "code",
    "metadata": {
      "id": "b9ab505b1f4"
      },
      "source": [
      "[print('Miller Array %s: %s' % (i, miller_array.info().wavelength)) for i, miller_array in list(enumerate(miller_arrays))]\n",
      "$0"
      ]
    },
    {
    "cell_type": "markdown",
    "metadata": {
      "id": "b2f281ff735d"
      },
      "source": [
        "##millerArraySources\n",
        "\n",
        "Print the source of each miller array.\n",
        "\n",
        "*Python*"
      ]
    },
    {
    "cell_type": "code",
    "metadata": {
      "id": "7458fa9c116e"
      },
      "source": [
      "print('Miller Array %s: %s' % (i, miller_array.info().source)) for i, miller_array in list(enumerate(miller_arrays))]\n",
      "$0"
      ]
    },
    {
    "cell_type": "markdown",
    "metadata": {
      "id": "5ef4488267f5"
      },
      "source": [
        "##millerArrayLengths\n",
        "\n",
        "Print length of miller arrays (i.e., the number of datasets in a mtz file).\n",
        "\n",
        "*Python*"
      ]
    },
    {
    "cell_type": "code",
    "metadata": {
      "id": "9427fc289620"
      },
      "source": [
      "len(miller_arrays)\n",
      "$0"
      ]
    },
    {
    "cell_type": "markdown",
    "metadata": {
      "id": "49658629d2c8"
      },
      "source": [
        "##millerArraySymmetry\n",
        "\n",
        "Print the crystal symmetry of each miller array.\n",
        "\n",
        "*Python*"
      ]
    },
    {
    "cell_type": "code",
    "metadata": {
      "id": "ebfd716e2098"
      },
      "source": [
      "[print('Miller Array %s: %s' % (i, miller_array.info().crystal_symmetry_from_file)) for i, miller_array in list(enumerate(miller_arrays))]\n",
      "$0"
      ]
    },
    {
    "cell_type": "markdown",
    "metadata": {
      "id": "d2216c7539e1"
      },
      "source": [
        "##millerArrayHKLs\n",
        "\n",
        "Print all of the miller indices for a given Miller array.\n",
        "\n",
        "*Python*"
      ]
    },
    {
    "cell_type": "code",
    "metadata": {
      "id": "dc2f13416fa0"
      },
      "source": [
      "[print(hkl) for hkl in miller_arrays[0].indices()]\n",
      "$0"
      ]
    },
    {
    "cell_type": "markdown",
    "metadata": {
      "id": "715281c8e681"
      },
      "source": [
        "##millerArrayMethods\n",
        "\n",
        "Print the available methods for the Miller class.\n",
        "\n",
        "*Python*"
      ]
    },
    {
    "cell_type": "code",
    "metadata": {
      "id": "59776ad2ad8c"
      },
      "source": [
      "dir(miller_arrays[0])\n",
      "$0"
      ]
    },
    {
    "cell_type": "markdown",
    "metadata": {
      "id": "c3a78137e52e"
      },
      "source": [
        "##millerArraydstar\n",
        "\n",
        "Return the resolution range in d* in a specified Miller array.\n",
        "\n",
        "*Python*"
      ]
    },
    {
    "cell_type": "code",
    "metadata": {
      "id": "e48559f6a9a7"
      },
      "source": [
      "miller_arrays[0].min_max_d_star_sq()\n",
      "$0"
      ]
    },
    {
    "cell_type": "markdown",
    "metadata": {
      "id": "e7121bce8eb"
      },
      "source": [
        "##millerArrayDminDmax\n",
        "\n",
        "Return the resolution range in Angstroms for a Miller array.\n",
        "\n",
        "*Python*"
      ]
    },
    {
    "cell_type": "code",
    "metadata": {
      "id": "17c51c9cf076"
      },
      "source": [
      "miller_arrays[0].d_max_min()\n",
      "$0"
      ]
    },
    {
    "cell_type": "markdown",
    "metadata": {
      "id": "3096a1c56854"
      },
      "source": [
        "##millerArrayIsigma
\n",
        "\n",
        "Return the I/sig overall for a given Miller array.\n",
        "\n",
        "*Python*"
      ]
    },
    {
    "cell_type": "code",
    "metadata": {
      "id": "dab49233d70a"
      },
      "source": [
      "miller_arrays[0].i_over_sig_i()\n",
      "$0"
      ]
    },
    {
    "cell_type": "markdown",
    "metadata": {
      "id": "f932061e1f08"
      },
      "source": [
        "##millerArrayCC\n",
        "\n",
        "Return CC one-half sigma tau for a given Miller array.\n",
        "\n",
        "*Python*"
      ]
    },
    {
    "cell_type": "code",
    "metadata": {
      "id": "6fddf2992f05"
      },
      "source": [
      "miller_arrays[0].cc_one_half_sigma_tau()\n",
      "$0"
      ]
    },
    {
    "cell_type": "markdown",
    "metadata": {
      "id": "1d6eaac0f54"
      },
      "source": [
        "##millerArrayCConeHalf\n",
        "\n",
        "Return CC one-half for a given Miller array. \n",
        "\n",
        "*Python*"
      ]
    },
    {
    "cell_type": "code",
    "metadata": {
      "id": "c858b65e4fcc"
      },
      "source": [
      "miller_arrays[0].cc_one_half()\n",
      "$0"
      ]
    },
    {
    "cell_type": "markdown",
    "metadata": {
      "id": "b86e5c1e647d"
      },
      "source": [
        "##millerArrayBijvoetRatios\n",
        "\n",
        "Print the Bijvoet ratios in a specified Miller array.  May have to average by bin first.\n",
        "\n",
        "*Python*"
      ]
    },
    {
    "cell_type": "code",
    "metadata": {
      "id": "63a0f0eda4b"
      },
      "source": [
      "[print(i) for i in miller_arrays[0].bijvoet_ratios()]\n",
      "$0"
      ]
    },
    {
    "cell_type": "markdown",
    "metadata": {
      "id": "2f79bf69e7cb"
      },
      "source": [
        "##millerArrayMeasurability\n",
        "\n",
        "Return the `measurability` of the anomalous signal in a specified Miller array.\n",
        "\n",
        "*Python*"
      ]
    },
    {
    "cell_type": "code",
    "metadata": {
      "id": "9ed18930b82d"
      },
      "source": [
      "miller_arrays[0].measurability()\n",
      "$0"
      ]
    },
    {
    "cell_type": "markdown",
    "metadata": {
      "id": "a412d1e1e634"
      },
      "source": [
        "##millerArrayAnomalousSignal\n",
        "\n",
        "Return the anomalous signal in a specified Miller array.\n",
        "\n",
        "*Python*"
      ]
    },
    {
    "cell_type": "code",
    "metadata": {
      "id": "da8ed9126699"
      },
      "source": [
      "miller_arrays[0].anomalous_signal()\n",
      "$0"
      ]
    },
    {
    "cell_type": "markdown",
    "metadata": {
      "id": "c56aeba53470"
      },
      "source": [
        "##millerArrayComprehensiveSummary\n",
        "\n",
        "Show comprehensive summary for a specified Miller array. \n",
        "\n",
        "*Python*"
      ]
    },
    {
    "cell_type": "code",
    "metadata": {
      "id": "a433fcc76d12"
      },
      "source": [
      "miller_arrays[0].show_comprehensive_summary()\n",
      "$0"
      ]
    },
    {
    "cell_type": "markdown",
    "metadata": {
      "id": "e82fd9c4e488"
      },
      "source": [
        "##millerArrayCountBijvoetPairs\n",
        "\n",
        "Show number of bijvoet pairs for a specified Miller array.\n",
        "\n",
        "*Python*"
      ]
    },
    {
    "cell_type": "code",
    "metadata": {
      "id": "492447676627"
      },
      "source": [
      "miller_arrays[0].n_bijvoet_pairs()\n",
      "$0"
      ]
    },
    {
    "cell_type": "markdown",
    "metadata": {
      "id": "b6af0ac3fce2"
      },
      "source": [
        "##millerArrayWilsonRatio\n",
        "\n",
        "Show wilson ratio of miller array for a specified Miller array. \n",
        "\n",
        "*Python*"
      ]
    },
    {
    "cell_type": "code",
    "metadata": {
      "id": "1756c2a0fbbe"
      },
      "source": [
      "miller_arrays[0].wilson_ratio()\n",
      "$0"
      ]
    },
    {
    "cell_type": "markdown",
    "metadata": {
      "id": "e546134d8ed6"
      },
      "source": [
        "##millerArrayUnpackIpIn\n",
        "\n",
        "Unpack into I(+) and I(-) for a specified Miller array. \n",
        "\n",
        "*Python*"
      ]
    },
    {
    "cell_type": "code",
    "metadata": {
      "id": "5e90e08541bc"
      },
      "source": [
      "Iobs = miller_arrays[0]\n",
      "i_plus, i_minus = Iobs.hemispheres_acentrics()\n",
      "ipd = i_plus.data()\n",
      "ip=list(ipd)\n",
      "imd = i_minus.data()\n",
      "im = list(imd)\n",
      "len(im)\n",
      "Iobs.show_summary()\n",
      "print(Iobs.info())\n",
      "print(Iobs.observation_type())\n",
      "$0"
      ]
    },
    {
    "cell_type": "markdown",
    "metadata": {
      "id": "84eac00a33d8"
      },
      "source": [
        "##millerArrayPrintSelectRows\n",
        "\n",
        "Print five rows of the Iobs for a specified Miller array. \n",
        "\n",
        "*Python*"
      ]
    },
    {
    "cell_type": "code",
    "metadata": {
      "id": "55f58c41219c"
      },
      "source": [
      "list(Iobs[100:105])\n",
      "$0"
      ]
    },
    {
    "cell_type": "markdown",
    "metadata": {
      "id": "f7683c47b3f8"
      },
      "source": [
        "##millerArrayExtractIntensities\n",
        "\n",
        "Extract just the intensities for a give Miller array and print ten rows of them.\n",
        "\n",
        "*Python*"
      ]
    },
    {
    "cell_type": "code",
    "metadata": {
      "id": "5d174ead2bf"
      },
      "source": [
      "Iobs = miller_arrays[0]\n",
      "iobsdata = Iobs.data()\n",
      "list(iobsdata[100:110])\n",
      "$0"
      ]
    },
    {
    "cell_type": "markdown",
    "metadata": {
      "id": "55262a8a2ee7"
      },
      "source": [
        "##millerArrayPrintntensities\n",
        "\n",
        "Print all of the intensities for a given Miller array.\n",
        "\n",
        "*Python*"
      ]
    },
    {
    "cell_type": "code",
    "metadata": {
      "id": "95a5076d3202"
      },
      "source": [
      "[print(hkl) for hkl in miller_arrays[1].data()]\n",
      "$0"
      ]
    },
    {
    "cell_type": "markdown",
    "metadata": {
      "id": "186ddaf63817"
      },
      "source": [
        "##millerArrayconvert2mtz\n",
        "\n",
        "Convert the miller array into a mtz_dataset and write out as a mtz file.\n",
        "\n",
        "*Python*"
      ]
    },
    {
    "cell_type": "code",
    "metadata": {
      "id": "691ad3c199fe"
      },
      "source": [
      "# Convert the miller array into a mtz_dataset and write out as a mtz file.\n",
      "mtz_dataset = Iobs.as_mtz_dataset(column_root_label='I')\n",
      "mtz_dataset.mtz_object().write('3hz7intensities.mtz')\n",
      "$0"
      ]
    },
    {
    "cell_type": "markdown",
    "metadata": {
      "id": "c512214fa071"
      },
      "source": [
        "##millerArrayReadMtz\n",
        "\n",
        "Read in the mtz file and print its column labels as a sanity check.\n",
        "\n",
        "*Python*"
      ]
    },
    {
    "cell_type": "code",
    "metadata": {
      "id": "9a31cf9abab4"
      },
      "source": [
      "mtz_filename2 = '3hz7intensities.mtz'\n",
      "mtz_file2 = mtz.object(mtz_filename2)\n",
      "mtz_file2.column_labels()\n",
      "$0"
      ]
    },
    {
    "cell_type": "markdown",
    "metadata": {
      "id": "b89fcb6cab8b"
      },
      "source": [
        "##millerArray2Dictionary\n",
        "\n",
        "Set up the arrays as dictionaries\n",
        "\n",
        "*Python*"
      ]
    },
    {
    "cell_type": "code",
    "metadata": {
      "id": "cdf278613532"
      },
      "source": [
      "from iotbx import mtz\n",
      "mtz_obj = mtz.object(file_name='3nd4.mtz')\n",
      "# Only works with mtz.object. \n",
      "# Does not work if mtz is read in with iotbx.file_reader.\n",
      "miller_arrays_dict = mtz_obj.as_miller_arrays_dict()\n",
      "$0"
      ]
    },
    {
    "cell_type": "markdown",
    "metadata": {
      "id": "43feab70eff8"
      },
      "source": [
        "##millerArrayDictionaryKeys\n",
        "\n",
        "Print the miller keys() of a miller dictionary.\n",
        "\n",
        "*Python*"
      ]
    },
    {
    "cell_type": "code",
    "metadata": {
      "id": "22075abb81d1"
      },
      "source": [
      "miller_arrays_dict.keys()\n",
      "$0"
      ]
    },
    {
    "cell_type": "markdown",
    "metadata": {
      "id": "f9329224d069"
      },
      "source": [
        "##millerArrayDictPrintColumns\n",
        "\n",
        "Print the column labels of Miller dictionary.\n",
        "\n",
        "*Python*"
      ]
    },
    {
    "cell_type": "code",
    "metadata": {
      "id": "6bdb5d034129"
      },
      "source": [
      "from iotbx import mtz\n",
      "mtz_obj = mtz.object(file_name='/Users/blaine/3nd4.mtz')\n",
      "# Only works with mtz.object. Does not work if mtz is read in with iotbx.file_reader.\n",
      "miller_arrays_dict = mtz_obj.as_miller_arrays_dict()\n",
      "[print(f'Column label: {key[2]')  for key in miller_arrays_dict.keys()]\n",
      "$0"
      ]
    },
    {
    "cell_type": "markdown",
    "metadata": {
      "id": "19f42c36205d"
      },
      "source": [
        "##millerArrayBuildFromUnitCell\n",
        "\n",
        "Peter Zwart's code for generating the indices for unit cell of given symmetry and dimensions. \n",
        "\n",
        "*Python*"
      ]
    },
    {
    "cell_type": "code",
    "metadata": {
      "id": "a745d211ed4e"
      },
      "source": [
      "from cctbx import miller\n",
      "import cctbx\n",
      "from cctbx import crystal\n",
      "\n",
      "ms = miller.build_set(\n",
      "    crystal_symmetry=crystal.symmetry(\n",
      "        space_group_symbol='Fd-3m',\n",
      "        unit_cell=(5.4307,5.4307,5.4307,90.00,90.0,90.00)),\n",
      "    anomalous_flag=True,\n",
      "    d_min=0.4)\n",
      "\n",
      "[print(hkl) for hkl in ms.indices()]\n",
      "$0"
      ]
    },
    {
    "cell_type": "markdown",
    "metadata": {
      "id": "1924de0fec18"
      },
      "source": [
        "##millerArrayMapToASU\n",
        "\n",
        "Map generated reflections to the asu and print.\n",
        "\n",
        "*Python*"
      ]
    },
    {
    "cell_type": "code",
    "metadata": {
      "id": "f0bad7e47a36"
      },
      "source": [
      "from cctbx import miller\n",
      "import cctbx\n",
      "from cctbx import crystal\n",
      "\n",
      "ms = miller.build_set(\n",
      "    crystal_symmetry=crystal.symmetry(\n",
      "        space_group_symbol='Fd-3m',\n",
      "        unit_cell=(5.4307,5.4307,5.4307,90.00,90.0,90.00)),\n",
      "    anomalous_flag=True,\n",
      "    d_min=0.4)\n",
      "\n",
      "msu = ms.map_to_asu()\n",
      "[print(hkl2) for hkl2 in msu.indices()]\n",
      "$0"
      ]
    },
    {
    "cell_type": "markdown",
    "metadata": {
      "id": "902f7dfb6108"
      },
      "source": [
        "##millerArrayPrintSummary\n",
        "\n",
        "Read mtz file into a miller array and print summary.\n",
        "\n",
        "*Python*"
      ]
    },
    {
    "cell_type": "code",
    "metadata": {
      "id": "740eab800ea1"
      },
      "source": [
      "from iotbx.reflection_file_reader import any_reflection_file\n",
      "hkl_in = any_reflection_file(file_name='3nd4.mtz')\n",
      "miller_arrays = hkl_in.as_miller_arrays()\n",
      "f_obs = miller_arrays[0]\n",
      "f_obs.show_summary()\n",
      "$0"
      ]
    },
    {
    "cell_type": "markdown",
    "metadata": {
      "id": "8b3f30f3e31c"
      },
      "source": [
        "##mtzObjectSummary\n",
        "\n",
        "Read mtz file into a mtz object and print summary.\n",
        "\n",
        "*Python*"
      ]
    },
    {
    "cell_type": "code",
    "metadata": {
      "id": "5d5f75e5adb4"
      },
      "source": [
      "from iotbx import mtz\n",
      "mtz_obj = mtz.object(file_name='/Users/blaine/3nd4.mtz')\n",
      "mtz_obj.show_summary()\n",
      "$0"
      ]
    },
    {
    "cell_type": "markdown",
    "metadata": {
      "id": "ea480080ca6e"
      },
      "source": [
        "##millerArrayFromMtz\n",
        "\n",
        "Read mtz file into a Miller array.\n",
        "\n",
        "*Python*"
      ]
    },
    {
    "cell_type": "code",
    "metadata": {
      "id": "379793a23b42"
      },
      "source": [
      "from iotbx import mtz\n",
      "mtz_obj = mtz.object(file_name='3nd4.mtz')\n",
      "miller_arrays = mtz_obj.as_miller_arrays()\n",
      "$0"
      ]
    },
    {
    "cell_type": "markdown",
    "metadata": {
      "id": "97630cabeb7"
      },
      "source": [
        "##millerArrayTruncate\n",
        "\n",
        "Read mtz file into a Miller array, truncate, and print summary.\n",
        "\n",
        "*Python*"
      ]
    },
    {
    "cell_type": "code",
    "metadata": {
      "id": "16f2d683ba01"
      },
      "source": [
      "from iotbx import mtz\n",
      "mtz_obj = mtz.object(file_name='3nd4.mtz')\n",
      "miller_arrays = mtz_obj.as_miller_arrays()\n",
      "miller_array_truncated = miller_arrays[0].resolution_filter(d_min=2, d_max=5)\n",
      "print(miller_array_truncated)\n",
      "miller_array_truncated.show_summary()\n",
      "$0"
      ]
    },
    {
    "cell_type": "markdown",
    "metadata": {
      "id": "cf1f7257998c"
      },
      "source": [
        "##millerArrayDictColumnLabels\n",
        "\n",
        "Print column labels of a Miller array dictionary.\n",
        "\n",
        "*Python*"
      ]
    },
    {
    "cell_type": "code",
    "metadata": {
      "id": "dd8ab987ca99"
      },
      "source": [
      "[print(f'Column label: {key[2]')  for key in miller_arrays_dict.keys()]\n",
      "$0"
      ]
    },
    {
    "cell_type": "markdown",
    "metadata": {
      "id": "76ac14901ad6"
      },
      "source": [
        "##condaInstall\n",
        "\n",
        "The conda commands to install cctbx with the jupyter notebook, pandas, and xarray.\n",
        "\n",
        "*Python*"
      ]
    },
    {
    "cell_type": "code",
    "metadata": {
      "id": "396a98bf9984"
      },
      "source": [
      "conda create --name cctbx37 python=3.7\n",
      "conda activate cctbx37\n",
      "conda install -c conda-forge cctbx-base jupyter pandas xarray\n",
      "$0"
      ]
    },
    {
    "cell_type": "markdown",
    "metadata": {
      "id": "87274c088692"
      },
      "source": [
        "##condaRemove\n",
        "\n",
        "The conda commands to remove cctbx37 env.\n",
        "\n",
        "*Python*"
      ]
    },
    {
    "cell_type": "code",
    "metadata": {
      "id": "f166b0b244df"
      },
      "source": [
      "conda remove --name cctbx37"
      ]
    },
    {
    "cell_type": "markdown",
    "metadata": {
      "id": "9fbd212146dc"
      },
      "source": [
        "##fetchPDB\n",
        "\n",
        "Fetch pdb file from RCSB in PDB format.\n",
        "\n",
        "*Python*"
      ]
    },
    {
    "cell_type": "code",
    "metadata": {
      "id": "6adb2865ab80"
      },
      "source": [
      "from iotbx.pdb.fetch import get_pdb\n",
      "import sys\n",
      "get_pdb(id='3nd4',data_type='pdb', mirror='rcsb', format='pdb', log=sys.stdout)\n",
      "$0"
      ]
    },
    {
    "cell_type": "markdown",
    "metadata": {
      "id": "358b886d133d"
      },
      "source": [
        "##updateCLT\n",
        "\n",
        "Update the command line tools for Xcode on Mac OS X. \n",
        "\n",
        "*Python*"
      ]
    },
    {
    "cell_type": "code",
    "metadata": {
      "id": "604004aba5f3"
      },
      "source": [
      "sudo touch /tmp/.com.apple.dt.CommandLineTools.installondemand.in-progress\n",
      "softwareupdate -l\n",
      "# Update command line tools via software update.\n",
      "sudo rm /tmp/.com.apple.dt.CommandLineTools.installondemand.in-progress"
      ]
    },
    {
    "cell_type": "markdown",
    "metadata": {
      "id": "f0ea7ba60423"
      },
      "source": [
        "##extractCrystalSymmetry\n",
        "\n",
        "Extract crystal symmetry from mtz file.\n",
        "\n",
        "*Python*"
      ]
    },
    {
    "cell_type": "code",
    "metadata": {
      "id": "31c20430d484"
      },
      "source": [
      "from __future__ import absolute_import, division, print_function\n",
      "from iotbx import mtz\n",
      "from cctbx import crystal\n",
      "\n",
      "def extract_from(file_name):\n",
      "  mtz_object = mtz.object(file_name=file_name)\n",
      "  assert mtz_object.n_symmetry_matrices() > 0\n",
      "  return mtz_object.crystals()[0].crystal_symmetry()\n",
      "  \n",
      " extract_from(file_name='3nd4.mtz')\n",
      " $0"
      ]
    },
    {
    "cell_type": "markdown",
    "metadata": {
      "id": "81c67f466182"
      },
      "source": [
        "##plotDstarsLogMeans\n",
        "\n",
        "Generate the list of dstars and logMeans as lists for plotting by matplotlib.\n",
        "\n",
        "*Python*"
      ]
    },
    {
    "cell_type": "code",
    "metadata": {
      "id": "426f7ec605f"
      },
      "source": [
      "\"\"\"Generate the list of dstars and logMeans as lists\n",
      "for plotting by matplotlib.\"\"\"\n",
      "\n",
      "used = list(binner.range_used())\n",
      "selections = [binner.selection(i) for i in used]\n",
      "\n",
      "# make means of the intensities by bin\n",
      "means = [Iobs.select(sel).mean() for sel in selections]\n",
      "from math import log\n",
      "lnmeans = [log(y) for y in means]\n",
      "\n",
      "# meansBR = [Iobs.bijvoet_ratios().select(sel).mean() for sel in selections]\n",
      "\n",
      "# make d_centers\n",
      "d_star_power = 1.618034\n",
      "centers = binner.bin_centers(d_star_power)\n",
      "d_centers = list(centers**(-1 / d_star_power))\n",
      "\n",
      "%matplotlib inline\n",
      "import matplotlib.pyplot as plt\n",
      "import matplotlib as mpl\n",
      "mpl.rcParams['savefig.dpi'] = 600\n",
      "mpl.rcParams['figure.dpi'] = 600\n",
      "\n",
      "fig, ax = plt.subplots(figsize=[3.25, 2.])\n",
      "ax.scatter(d_centers,lnmeans,c='k',alpha=0.3,s=5.5)\n",
      "\n",
      "ax.set_xlim(8, 1.5) # decreasing time\n",
      "ax.set_xlabel(r'$d^*$ in $\AA$',fontsize=12)\n",
      "ax.set_ylabel('ln(I)',fontsize=12)\n",
      "plt.xticks(fontsize=12)\n",
      "plt.yticks(fontsize=12)\n",
      "ax.grid(False)\n",
      "plt.savefig('3hz7iobsvsdstar.pdf',bbox_inches='tight')\n",
      "plt.show()\n",
      "$0"
      ]
    },
    {
    "cell_type": "markdown",
    "metadata": {
      "id": "f6bd43b696e8"
      },
      "source": [
        "##plotDstarsMeasurability\n",
        "\n",
        "Generate the list of dstars and measurability as lists for plotting by matplotlib.\n",
        "\n",
        "*Python*"
      ]
    },
    {
    "cell_type": "code",
    "metadata": {
      "id": "ab44e393d5b8"
      },
      "source": [
      "from iotbx.reflection_file_reader import any_reflection_file\n",
      "hkl_file = any_reflection_file('3hz7.mtz')\n",
      "miller_arrays = hkl_file.as_miller_arrays(merge_equivalents=False)\n",
      "\n",
      "Iobs = miller_arrays[1]\n",
      "# Set up the bins\n",
      "n_bins = 50\n",
      "binner = Iobs.setup_binner(n_bins=n_bins)\n",
      "# binner.show_summary()\n",
      "used = list(binner.range_used())\n",
      "selections = [binner.selection(i) for i in used]\n",
      "\n",
      "# make d_centers for the x-axis\n",
      "d_star_power = 1.618034\n",
      "centers = binner.bin_centers(d_star_power)\n",
      "d_centers = list(centers**(-1 / d_star_power))\n",
      "\n",
      "# make list of the measurabilities by resolution bin\n",
      "meas = [Iobs.select(sel).measurability() for sel in selections]\n",
      "\n",
      "%matplotlib inline\n",
      "import matplotlib.pyplot as plt\n",
      "import matplotlib as mpl\n",
      "mpl.rcParams['savefig.dpi'] = 600\n",
      "mpl.rcParams['figure.dpi'] = 600\n",
      "\n",
      "fig, ax = plt.subplots(figsize=[3.25, 2.])\n",
      "ax.scatter(d_centers,lnmeans,c='k',alpha=0.3,s=5.5)\n",
      "\n",
      "ax.set_xlim(8, 1.5) # decreasing time\n",
      "ax.set_xlabel(r'$d^*$ in $\AA$',fontsize=12)\n",
      "ax.set_ylabel('ln(I)',fontsize=12)\n",
      "plt.xticks(fontsize=12)\n",
      "plt.yticks(fontsize=12)\n",
      "ax.grid(False)\n",
      "plt.savefig('3hz7measureability.pdf',bbox_inches='tight')\n",
      "plt.show()\n",
      "$0"
      ]
    },
    {
    "cell_type": "markdown",
    "metadata": {
      "id": "75cd6a1f5ba4"
      },
      "source": [
        "##computeAllMillerIndices\n",
        "\n",
        "Compute all possible Miller indices.\n",
        "\n",
        "*Python*"
      ]
    },
    {
    "cell_type": "code",
    "metadata": {
      "id": "b9625b1c172d"
      },
      "source": [
      "from cctbx import miller\n",
      "\n",
      "def generate_reflection_indices(uc, dmin):\n",
      "    maxh, maxk, maxl = uc.max_miller_indices(dmin)\n",
      "\n",
      "    indices = []\n",
      "\n",
      "    for h in range(-maxh, maxh + 1):\n",
      "        for k in range(-maxk, maxk + 1):\n",
      "            for l in range(-maxl, maxl + 1):\n",
      "                if h == 0 and k == 0 and l == 0:\n",
      "                    continue\n",
      "                if uc.d((h, k, l)) < dmin:\n",
      "                    continue\n",
      "        indices.append((h, k, l))\n",
      "    return indices\n",
      "    \n",
      "uc=(5.4307,5.4307,5.4307,90.00,90.0,90.00)\n",
      "dmin=1.0\n",
      "$0"
      ]
    },
    {
    "cell_type": "markdown",
    "metadata": {
      "id": "d63bed756fa2"
      },
      "source": [
        "##computeAllMillerIndicesASU\n",
        "\n",
        "Compute all possible Miller indices in the ASU.\n",
        "\n",
        "*Python*"
      ]
    },
    {
    "cell_type": "code",
    "metadata": {
      "id": "bac620218268"
      },
      "source": [
      "from cctbx import miller\n",
      "import cctbx\n",
      "from cctbx import crystal\n",
      "\n",
      "ms = miller.build_set(\n",
      "    crystal_symmetry=crystal.symmetry(\n",
      "        space_group_symbol='Fd-3m',\n",
      "        unit_cell=('5.4307,5.4307,5.4307,90.00,90.0,90.00') ),\n",
      "    anomalous_flag=False,\n",
      "    d_min=0.4)\n",
      "\n",
      "for hkl in ms.indices():\n",
      "    print(hkl)\n",
      "\n",
      "# map the reflections to the asu and print\n",
      "  \n",
      "msu = ms.map_to_asu()\n",
      "[print(hkl2) for hkl2 in msu.indices()]\n",
      "$0"
      ]
    },
    {
    "cell_type": "markdown",
    "metadata": {
      "id": "3fa7470e780a"
      },
      "source": [
        "##computeAllMillerIndicesUnitCell\n",
        "\n",
        "Build miller indices given unit cell and resolution limit.\n",
        "\n",
        "*Python*"
      ]
    },
    {
    "cell_type": "code",
    "metadata": {
      "id": "6a8d8069fbd7"
      },
      "source": [
      "from cctbx import crystal\n",
      "from cctbx import miller\n",
      "\n",
      "ms = miller.build_set(\n",
      "    crystal_symmetry=crystal.symmetry(\n",
      "        space_group_symbol='P4',\n",
      "        unit_cell=(150.8,150.8,250.4,90.0,90.0,90.0)),\n",
      "    anomalous_flag=False,\n",
      "    d_min=1.4)\n",
      "msu = ms.map_to_asu()\n",
      "[print(hkl) for hkl in msu.indices()]\n",
      "print(msu.show_comprehensive_summary())\n",
      "$0"
      ]
    },
    {
    "cell_type": "markdown",
    "metadata": {
      "id": "175a9e6db801"
      },
      "source": [
        "##extractReflectionMtzFile\n",
        "\n",
        "Extract the reflections from a mtz file.\n",
        "\n",
        "*Python*"
      ]
    },
    {
    "cell_type": "code",
    "metadata": {
      "id": "e5416f384c31"
      },
      "source": [
      "from iotbx import mtz\n",
      "mtz_obj = mtz.object(file_name='Users/blaine/manuscripts/RETkinaseLoxo/ret_blu.mtz')\n",
      "mtz_obj.show_summary()\n",
      "$0"
      ]
    },
    {
    "cell_type": "markdown",
    "metadata": {
      "id": "154bb6023db9"
      },
      "source": [
        "##extractReflectionInShell\n",
        "\n",
        "Extract the reflections in a shell.\n",
        "\n",
        "*Python*"
      ]
    },
    {
    "cell_type": "code",
    "metadata": {
      "id": "28f640bcfd97"
      },
      "source": [
      "from iotbx import mtz\n",
      "mtz_obj = mtz.object(file_name='2V89.mtz')\n",
      "miller_arrays = mtz_obj.as_miller_arrays()\n",
      "for miller_array in miller_arrays:\n",
      "    miller_array_truncated = miller_array.resolution_filter(d_min=2, d_max=5)\n",
      "print(miller_array_truncated)\n",
      "$0"
      ]
    },
    {
    "cell_type": "markdown",
    "metadata": {
      "id": "8d81c656b225"
      },
      "source": [
        "##plotRfactorResolutionBin\n",
        "\n",
        "Read in a phenix.refine mtz file. It plots the work and free R-factors by resolution bin.\n",
        "\n",
        "*Python*"
      ]
    },
    {
    "cell_type": "code",
    "metadata": {
      "id": "1e866970c9a2"
      },
      "source": [
      "#!/usr/bin/env python\n",
      "# coding: utf-8\n",
      "\"\"\" \n",
      "This script reads in a phenix.refine mtz file.\n",
      "It plots the R-factor by resolution bin.\n",
      "The plots are made with matplotlib using miller arrays.\n",
      "It also plots the correlation coefficients.\n",
      "The plots were made with matplotlib.\n",
      "\n",
      "This script was adapted from an example script in iotbx:  \n",
      "\n",
      "Source:  https://github.com/cctbx/cctbx_project/blob/master/\n",
      "iotbx/examples/recalculate_phenix_refine_r_factors.py\n",
      "\"\"\"\n",
      "\n",
      "\n",
      "# get_ipython().run_line_magic('matplotlib', 'inline')\n",
      "\n",
      "from __future__ import absolute_import, division, print_function\n",
      "from iotbx.reflection_file_utils import get_r_free_flags_scores\n",
      "from iotbx.file_reader import any_file\n",
      "import matplotlib\n",
      "import matplotlib.pyplot as plt\n",
      "\n",
      "\n",
      "\n",
      "def compute_r_factors(fobs, fmodel, flags):\n",
      "  fmodel, fobs = fmodel.common_sets(other=fobs)\n",
      "  fmodel, flags = fmodel.common_sets(other=flags)\n",
      "  fc_work = fmodel.select(~(flags.data()))\n",
      "  fo_work = fobs.select(~(flags.data()))\n",
      "  fc_test = fmodel.select(flags.data())\n",
      "  fo_test = fobs.select(flags.data())\n",
      "  r_work = fo_work.r1_factor(fc_work)\n",
      "  r_free = fo_test.r1_factor(fc_test)\n",
      "  \n",
      "  print('r_work = %.4f' % r_work)\n",
      "  print('r_free = %.4f' % r_free)\n",
      "  print('')\n",
      "\n",
      "  binner = flags.setup_binner(n_bins=20)\n",
      "  d_star_power = 1.618034\n",
      "  centers = binner.bin_centers(d_star_power)\n",
      "  d_centers = list(centers**(-1 / d_star_power))\n",
      "#   for i in d_centers:\n",
      "#     print(i)\n",
      "    \n",
      "  fo_work.use_binning_of(flags)\n",
      "  fc_work.use_binner_of(fo_work)\n",
      "  fo_test.use_binning_of(fo_work)\n",
      "  fc_test.use_binning_of(fo_work)\n",
      "\n",
      "  r_work_list = []\n",
      "  r_free_list = []\n",
      "  cc_work_list = []\n",
      "  cc_free_list = []\n",
      "  for i_bin in fo_work.binner().range_all():\n",
      "    sel_work = fo_work.binner().selection(i_bin)\n",
      "    sel_test = fo_test.binner().selection(i_bin)\n",
      "    fo_work_bin = fo_work.select(sel_work)\n",
      "    fc_work_bin = fc_work.select(sel_work)\n",
      "    fo_test_bin = fo_test.select(sel_test)\n",
      "    fc_test_bin = fc_test.select(sel_test)\n",
      "    if fc_test_bin.size() == 0 : continue\n",
      "        \n",
      "    r_work_bin = fo_work_bin.r1_factor(other=fc_work_bin,\n",
      "      assume_index_matching=True)\n",
      "    r_work_list.append(r_work_bin)\n",
      "    \n",
      "    r_free_bin = fo_test_bin.r1_factor(other=fc_test_bin,\n",
      "      assume_index_matching=True)\n",
      "    r_free_list.append(r_free_bin)\n",
      "    \n",
      "    cc_work_bin = fo_work_bin.correlation(fc_work_bin).coefficient()\n",
      "    cc_work_list.append(cc_work_bin)\n",
      "    \n",
      "    cc_free_bin = fo_test_bin.correlation(fc_test_bin).coefficient()\n",
      "    cc_free_list.append(cc_free_bin)\n",
      "    \n",
      "    legend = flags.binner().bin_legend(i_bin, show_counts=False)\n",
      "    print('%s  %8d %8d  %.4f %.4f  %.3f %.3f' % (legend, fo_work_bin.size(),\n",
      "      fo_test_bin.size(), r_work_bin, r_free_bin, cc_work_bin, cc_free_bin))\n",
      "    \n",
      "  return d_centers, r_work_list, r_free_list, cc_work_list, cc_free_list\n",
      "\n",
      "\n",
      "def plot_r_factors(d_centers, r_work_list, r_free_list):\n",
      "  plt.scatter(d_centers, r_work_list, label=r'$\mathit{R_{work$')\n",
      "  plt.scatter(d_centers, r_free_list, label=r'$\mathit{R_{free$')\n",
      "  plt.xlabel(r'Resolution ($\mathrm{\AA$)')\n",
      "  plt.ylabel(r'R-factor (%)')\n",
      "  plt.legend(loc='upper right')\n",
      "  plt.savefig('Rs.pdf')\n",
      "  plt.close()\n",
      "\n",
      "\n",
      "def plot_cc(d_centers, cc_work_list, cc_free_list):\n",
      "  plt.scatter(d_centers, cc_work_list, label=r'$\mathit{CC_{work$')\n",
      "  plt.scatter(d_centers, cc_free_list, label=r'$\mathit{CC_{free$')\n",
      "  plt.xlabel(r'Resolution ($\mathrm{\AA$)')\n",
      "  plt.ylabel(r'Correlation Coefficeint Fo vs Fc (%)')\n",
      "  plt.legend(loc='lower right')\n",
      "  plt.savefig('CCs.pdf')\n",
      "\n",
      "\n",
      "def run(input_mtz):\n",
      "  mtz_in = any_file(input_mtz)\n",
      "  ma = mtz_in.file_server.miller_arrays\n",
      "  flags = fmodel = fobs = None\n",
      "  # select the output arrays from phenix.refine.  This could easily be modified\n",
      "  # to handle MTZ files from other programs.\n",
      "  for array in ma :\n",
      "    labels = array.info().label_string()\n",
      "    if labels.startswith('R-free-flags'):\n",
      "      flags = array\n",
      "    elif labels.startswith('F-model'):\n",
      "      fmodel = abs(array)\n",
      "    elif labels.startswith('F-obs-filtered'):\n",
      "      fobs = array\n",
      "  if (None in [flags, fobs, fmodel]):\n",
      "    raise RuntimeError('Not a valid phenix.refine output file')\n",
      "  scores = get_r_free_flags_scores([flags], None)\n",
      "  test_flag_value = scores.test_flag_values[0]\n",
      "  flags = flags.customized_copy(data=flags.data()==test_flag_value)\n",
      "\n",
      "  (d_centers, \n",
      "   r_work_list, \n",
      "   r_free_list, \n",
      "   cc_work_list, \n",
      "   cc_free_list) = compute_r_factors(fobs, fmodel, flags)\n",
      "  plot_r_factors(d_centers, r_work_list, r_free_list)\n",
      "  plot_cc(d_centers, cc_work_list, cc_free_list)\n",
      "\n",
      "\n",
      "if (__name__ == '__main__'):\n",
      "  run(input_mtz='28molrepEdited_5_refine_001.mtz')\n",
      "$0"
      ]
    },
    {
    "cell_type": "markdown",
    "metadata": {
      "id": "34d1ee12efe2"
      },
      "source": [
        "##plotFcalcsrResolutionBin\n",
        "\n",
        "Example of computing Fcalcs and then plotting them by resolution bin. This script uses miller arrays and binner.\n",
        "\n",
        "*Python*"
      ]
    },
    {
    "cell_type": "code",
    "metadata": {
      "id": "67ecb6412d7a"
      },
      "source": [
      "\"\"\"\n",
      "This script reads in a phenix.refine mtz file.\n",
      "It plots the R-factor by resolution bin.\n",
      "The plots are made with matplotlib using miller arrays.\n",
      "It also plots the correlation coefficients.\n",
      "The plots were made with matplotlib.\n",
      "\n",
      "This script was adapted from an example script in iotbx:  \n",
      "\n",
      "Source:  https://github.com/cctbx/cctbx_project/blob/master/\n",
      "iotbx/examples/recalculate_phenix_refine_r_factors.py\n",
      "\"\"\"\n",
      "\n",
      "\n",
      "# get_ipython().run_line_magic('matplotlib', 'inline')\n",
      "\n",
      "from __future__ import absolute_import, division, print_function\n",
      "from iotbx.reflection_file_utils import get_r_free_flags_scores\n",
      "from iotbx.file_reader import any_file\n",
      "import matplotlib\n",
      "import matplotlib.pyplot as plt\n",
      "\n",
      "\n",
      "\n",
      "def compute_r_factors(fobs, fmodel, flags):\n",
      "  fmodel, fobs = fmodel.common_sets(other=fobs)\n",
      "  fmodel, flags = fmodel.common_sets(other=flags)\n",
      "  fc_work = fmodel.select(~(flags.data()))\n",
      "  fo_work = fobs.select(~(flags.data()))\n",
      "  fc_test = fmodel.select(flags.data())\n",
      "  fo_test = fobs.select(flags.data())\n",
      "  r_work = fo_work.r1_factor(fc_work)\n",
      "  r_free = fo_test.r1_factor(fc_test)\n",
      "  \n",
      "  print('r_work = %.4f' % r_work)\n",
      "  print('r_free = %.4f' % r_free)\n",
      "  print('')\n",
      "\n",
      "  binner = flags.setup_binner(n_bins=20)\n",
      "  d_star_power = 1.618034\n",
      "  centers = binner.bin_centers(d_star_power)\n",
      "  d_centers = list(centers**(-1 / d_star_power))\n",
      "#   for i in d_centers:\n",
      "#     print(i)\n",
      "    \n",
      "  fo_work.use_binning_of(flags)\n",
      "  fc_work.use_binner_of(fo_work)\n",
      "  fo_test.use_binning_of(fo_work)\n",
      "  fc_test.use_binning_of(fo_work)\n",
      "\n",
      "  r_work_list = []\n",
      "  r_free_list = []\n",
      "  cc_work_list = []\n",
      "  cc_free_list = []\n",
      "  for i_bin in fo_work.binner().range_all():\n",
      "    sel_work = fo_work.binner().selection(i_bin)\n",
      "    sel_test = fo_test.binner().selection(i_bin)\n",
      "    fo_work_bin = fo_work.select(sel_work)\n",
      "    fc_work_bin = fc_work.select(sel_work)\n",
      "    fo_test_bin = fo_test.select(sel_test)\n",
      "    fc_test_bin = fc_test.select(sel_test)\n",
      "    if fc_test_bin.size() == 0 : continue\n",
      "        \n",
      "    r_work_bin = fo_work_bin.r1_factor(other=fc_work_bin,\n",
      "      assume_index_matching=True)\n",
      "    r_work_list.append(r_work_bin)\n",
      "    \n",
      "    r_free_bin = fo_test_bin.r1_factor(other=fc_test_bin,\n",
      "      assume_index_matching=True)\n",
      "    r_free_list.append(r_free_bin)\n",
      "    \n",
      "    cc_work_bin = fo_work_bin.correlation(fc_work_bin).coefficient()\n",
      "    cc_work_list.append(cc_work_bin)\n",
      "    \n",
      "    cc_free_bin = fo_test_bin.correlation(fc_test_bin).coefficient()\n",
      "    cc_free_list.append(cc_free_bin)\n",
      "    \n",
      "    legend = flags.binner().bin_legend(i_bin, show_counts=False)\n",
      "    print('%s  %8d %8d  %.4f %.4f  %.3f %.3f' % (legend, fo_work_bin.size(),\n",
      "      fo_test_bin.size(), r_work_bin, r_free_bin, cc_work_bin, cc_free_bin))\n",
      "    \n",
      "  return d_centers, r_work_list, r_free_list, cc_work_list, cc_free_list\n",
      "\n",
      "\n",
      "def plot_r_factors(d_centers, r_work_list, r_free_list):\n",
      "  plt.scatter(d_centers, r_work_list, label=r'$\mathit{R_{work$')\n",
      "  plt.scatter(d_centers, r_free_list, label=r'$\mathit{R_{free$')\n",
      "  plt.xlabel(r'Resolution ($\mathrm{\AA$)')\n",
      "  plt.ylabel(r'R-factor (%)')\n",
      "  plt.legend(loc='upper right')\n",
      "  plt.savefig('Rs.pdf')\n",
      "  plt.close()\n",
      "\n",
      "\n",
      "def plot_cc(d_centers, cc_work_list, cc_free_list):\n",
      "  plt.scatter(d_centers, cc_work_list, label=r'$\mathit{CC_{work$')\n",
      "  plt.scatter(d_centers, cc_free_list, label=r'$\mathit{CC_{free$')\n",
      "  plt.xlabel(r'Resolution ($\mathrm{\AA$)')\n",
      "  plt.ylabel(r'Correlation Coefficeint Fo vs Fc (%)')\n",
      "  plt.legend(loc='lower right')\n",
      "  plt.savefig('CCs.pdf')\n",
      "\n",
      "\n",
      "def run(input_mtz):\n",
      "  mtz_in = any_file(input_mtz)\n",
      "  ma = mtz_in.file_server.miller_arrays\n",
      "  flags = fmodel = fobs = None\n",
      "  # select the output arrays from phenix.refine.  This could easily be modified\n",
      "  # to handle MTZ files from other programs.\n",
      "  for array in ma :\n",
      "    labels = array.info().label_string()\n",
      "    if labels.startswith('R-free-flags'):\n",
      "      flags = array\n",
      "    elif labels.startswith('F-model'):\n",
      "      fmodel = abs(array)\n",
      "    elif labels.startswith('F-obs-filtered'):\n",
      "      fobs = array\n",
      "  if (None in [flags, fobs, fmodel]):\n",
      "    raise RuntimeError('Not a valid phenix.refine output file')\n",
      "  scores = get_r_free_flags_scores([flags], None)\n",
      "  test_flag_value = scores.test_flag_values[0]\n",
      "  flags = flags.customized_copy(data=flags.data()==test_flag_value)\n",
      "\n",
      "  (d_centers, \n",
      "   r_work_list, \n",
      "   r_free_list, \n",
      "   cc_work_list, \n",
      "   cc_free_list) = compute_r_factors(fobs, fmodel, flags)\n",
      "  plot_r_factors(d_centers, r_work_list, r_free_list)\n",
      "  plot_cc(d_centers, cc_work_list, cc_free_list)\n",
      "\n",
      "\n",
      "if (__name__ == '__main__'):\n",
      "  run(input_mtz='28molrepEdited_5_refine_001.mtz')"
      ]
    },
    {
    "cell_type": "markdown",
    "metadata": {
      "id": "5d23ec3c72ab"
      },
      "source": [
        "##plotIntensityResolutionBin\n",
        "\n",
        "Miller arrays to plot of bin mean intensity over dstar\n",
        "\n",
        "*Python*"
      ]
    },
    {
    "cell_type": "code",
    "metadata": {
      "id": "3a1331231703"
      },
      "source": [
      "from iotbx.file_reader import any_file\n",
      "import matplotlib.pyplot as plt\n",
      "\n",
      "f = any_file('/Users/blaine/manuscripts/RETkinaseLoxo/ret_blu.mtz')\n",
      "\n",
      "print(f.file_type)\n",
      "f.show_summary()\n",
      "miller_arrays = f.file_server.miller_arrays\n",
      "iobs =  miller_arrays[3]\n",
      "flags = miller_arrays[0]\n",
      "iobs, flags = iobs.common_sets(other=flags)\n",
      "iobsData = iobs.data()\n",
      "list(iobsData[100:110])\n",
      "iobs.show_comprehensive_summary()\n",
      "# iobs.binner()\n",
      "n_bins = 20\n",
      "binner = iobs.setup_binner(n_bins=n_bins)\n",
      "binner.show_summary()\n",
      "\n",
      "used = list(binner.range_used())\n",
      "selections = [binner.selection(i) for i in used]\n",
      "means = [iobs.select(sel).mean() for sel in selections]\n",
      "\n",
      "from math import log\n",
      "lnmeans = [log(y) for y in means]\n",
      "\n",
      "d_star_power = 1.618034\n",
      "centers = binner.bin_centers(d_star_power)\n",
      "d_centers = list(centers**(-1 / d_star_power))\n",
      "d_centers\n",
      "\n",
      "# plt.ylabel('Natural log of the amplitudes squared')\n",
      "# plt.xlabel(r'$\textrm{d^*$ in $\textrm{\AA$')\n",
      "# ax.set_xlim(35, 1.5)\n",
      "# plt.scatter(d_centers,lnmeanss)\n",
      "\n",
      "fig, ax = plt.subplots()\n",
      "ax.scatter(d_centers,lnmeans)\n",
      "ax.set_xlim(8, 1.5)  # decreasing\n",
      "ax.set_xlabel(r'$d^*$ in $\AA$')\n",
      "ax.set_ylabel('Natural log of the intensities')\n",
      "ax.grid(False)\n",
      "plt.savefig('iobsvsdstar.pdf')\n",
      "$0"
      ]
    },
    {
    "cell_type": "markdown",
    "metadata": {
      "id": "f63668cc8298"
      },
      "source": [
        "##cns2mtz\n",
        "\n",
        "Miller arrays to convert CNS reflection file into an mtz file\n",
        "\n",
        "*Python*"
      ]
    },
    {
    "cell_type": "code",
    "metadata": {
      "id": "4ffda742712a"
      },
      "source": [
      "from iotbx import reflection_file_reader\n",
      "import os\n",
      "reflection_file = reflection_file_reader.any_reflection_file(file_name=os.path.expandvars('\$CNS_SOLVE/doc/html/tutorial/data/pen/scale.hkl'))\n",
      "from cctbx import crystal\n",
      "crystal_symmetry = crystal.symmetry( unit_cell=(97.37, 46.64, 65.47, 90, 115.4, 90), space_group_symbol='C2')\n",
      "miller_arrays = reflection_file.as_miller_arrays( crystal_symmetry=crystal_symmetry)\n",
      "mtz_dataset = None\n",
      "for miller_array in miller_arrays:\n",
      "    if (mtz_dataset is None):\n",
      "        mtz_dataset = miller_array.as_mtz_dataset(\n",
      "            column_root_label=miller_array.info().labels[0]) \n",
      "    else:\n",
      "        mtz_dataset.add_miller_array(\n",
      "            miller_array=miller_array, \n",
      "            column_root_label=miller_array.info().labels[0])\n",
      "mtz_object = mtz_dataset.mtz_object() \n",
      "mtz_object.show_summary()\n",
      "$0"
      ]
    },
    {
    "cell_type": "markdown",
    "metadata": {
      "id": "d4cb2ee3503c"
      },
      "source": [
        "##FsigmaFbyabsLindex\n",
        "\n",
        "L-plot\n",
        "\n",
        "*Python*"
      ]
    },
    {
    "cell_type": "code",
    "metadata": {
      "id": "2403fbf342e0"
      },
      "source": [
      "import pandas as pd\n",
      "\"\"\"\n",
      "Use pandas to read in a hkl file with whitespace separators into a dataframe.\n",
      "Append to the dataframe a column with F/sigmaF values.\n",
      "Append to the dataframe a column with the absolute value of the L indices.\n",
      "Average F/sigmaF by absL index.\n",
      "Write to absL and F/sigmaF to csv file.\n",
      "\"\"\"\n",
      "mtzdata = pd.read_csv('1524start.hkl', names=['H','K','L','F','SIGF'], sep='\s+')\n",
      "mtzdata['FovSigF'] = mtzdata.apply(lambda row: row['F'] / row['SIGF'], axis=1)\n",
      "mtzdata['absL'] = mtzdata.apply(lambda row: abs(row['L']), axis=1)\n",
      "FovSigFabsL = mtzdata.groupby([mtzdata.absL]).FovSigF.mean()\n",
      "FovSigFabsL.to_csv('test2.csv')\n",
      "$0"
      ]
    },
    {
    "cell_type": "markdown",
    "metadata": {
      "id": "fb6643c63eb6"
      },
      "source": [
        "##changeMtzColumns\n",
        "\n",
        "Read in mtz file and write out with fewer columns.\n",
        "\n",
        "*Python*"
      ]
    },
    {
    "cell_type": "code",
    "metadata": {
      "id": "848817538655"
      },
      "source": [
      "from iotbx.reflection_file_reader import any_reflection_file\n",
      "hkl_in = any_reflection_file('/Users/blaine/manuscripts/RETkinaseLoxo/ret_blu.mtz')\n",
      "\n",
      "miller_arrays = hkl_in.as_miller_arrays()\n",
      "\n",
      "i_obs =  miller_arrays[3]\n",
      "r_free_flags = miller_arrays[0]\n",
      "f_obs = i_obs.f_sq_as_f()\n",
      "\n",
      "mtz_dataset = i_obs.as_mtz_dataset(column_root_label='I')\n",
      "mtz_dataset.add_miller_array(f_obs, column_root_label='F')\n",
      "mtz_dataset.add_miller_array(r_free_flags,column_root_label='FreeR_flag')\n",
      "mtz_dataset.mtz_object().write('loxodata.mtz')\n",
      "$0"
      ]
    },
    {
    "cell_type": "markdown",
    "metadata": {
      "id": "5c17c32bcba3"
      },
      "source": [
        "##normalizedStructureFactors\n",
        "\n",
        "Calculate quasi-normalized structure factor.\n",
        "\n",
        "*Python*"
      ]
    },
    {
    "cell_type": "code",
    "metadata": {
      "id": "e7405ffe5f"
      },
      "source": [
      "all_e_values = miller_array.quasi_normalize_structure_factors().sort(by_value='data')\n",
      "$0"
      ]
    },
    {
    "cell_type": "markdown",
    "metadata": {
      "id": "ad87304832e5"
      },
      "source": [
        "##readMtzFile\n",
        "\n",
        "Read in a mtz file into a Miller array with iotbx.file_reader.\n",
        "\n",
        "*Python*"
      ]
    },
    {
    "cell_type": "code",
    "metadata": {
      "id": "16306d74a215"
      },
      "source": [
      "from iotbx.file_reader import any_file\n",
      "mtz_in = any_file('data.mtz', force_type='mtz')\n",
      "miller_arrays = mtz_in.file_server.miller_arrays\n",
      "$0"
      ]
    },
    {
    "cell_type": "markdown",
    "metadata": {
      "id": "af5f3c694134"
      },
      "source": [
        "##pattersonContourMap\n",
        "\n",
        "Read in a mtz file with iotbx.file_reader.\n",
        "\n",
        "*Python*"
      ]
    },
    {
    "cell_type": "code",
    "metadata": {
      "id": "a66d8037daa4"
      },
      "source": [
      "import numpy\n",
      "from matplotlib import pyplot\n",
      "import gemmi\n",
      "# https://gemmi.readthedocs.io/en/latest/grid.html\n",
      "ccp4 = gemmi.read_ccp4_map('/Users/blaine/4bqrPatterson.ccp4')\n",
      "ccp4.setup()\n",
      "arr = numpy.array(ccp4.grid, copy=False)\n",
      "x = numpy.linspace(0, ccp4.grid.unit_cell.a, num=arr.shape[0], endpoint=False)\n",
      "y = numpy.linspace(0, ccp4.grid.unit_cell.b, num=arr.shape[1], endpoint=False)\n",
      "X, Y = numpy.meshgrid(x, y, indexing='ij')\n",
      "pyplot.rcParams['figure.figsize'] = (8.0, 8.0)\n",
      "pyplot.contour(X, Y, arr[:,:,0],500, zorder=1,linestyles='solid')\n",
      "pyplot.gca().set_aspect('equal', adjustable='box')\n",
      "pyplot.show()\n",
      "\n",
      "arr2 = numpy.array(ccp4.grid, copy=False)\n",
      "x = numpy.linspace(0, ccp4.grid.unit_cell.a, num=arr2.shape[0], endpoint=False)\n",
      "z = numpy.linspace(0, ccp4.grid.unit_cell.c, num=arr2.shape[1], endpoint=False)\n",
      "X, Z = numpy.meshgrid(x, z, indexing='ij')\n",
      "pyplot.rcParams['figure.figsize'] = (4.0, 20.5)\n",
      "pyplot.contour(X, Z, arr[:,:,0],500, zorder=1, linestyles='solid')\n",
      "pyplot.gca().set_aspect('equal', adjustable='box')\n",
      "pyplot.savefig('patterson.png', dpi=600)\n",
      "pyplot.show()\n",
      "$0"
      ]
    },
    {
    "cell_type": "markdown",
    "metadata": {
      "id": "e66c6473a69"
      },
      "source": [
        "##condaInstall2\n",
        "\n",
        "The conda commands to remove old env and create a new one for  cctbx. These commands need to be run on the command line.\n",
        "\n",
        "*Python*"
      ]
    },
    {
    "cell_type": "code",
    "metadata": {
      "id": "2bee3f2597f8"
      },
      "source": [
      "conda remove --name cctbx37\n",
      "conda create -n cctbx38 -c conda-forge cctbx-base python=3.8\n",
      "conda activate cctbx38\n",
      "conda install -c conda-forge cctbx-base\n",
      "conda install -c anaconda ipykernel\n",
      "python -m ipykernel install --user --name cctbx38 --display-name 'cctbx38'\n",
      "$0"
      ]
    },
    {
    "cell_type": "markdown",
    "metadata": {
      "id": "d46011100e75"
      },
      "source": [
        "##eigenvalues\n",
        "\n",
        "The commands to find the eigenvalues and eigenvectors on a tensor. The code is from a post to cctbxbb on 10 December 2020 by Richard Gildea in a reply to Robert Oeffner about code in cctbx for finding eigenvalues and eigenvectors. Robert was requesting the analog in cctbx to scipy.linalg.eig.\n",
        "\n",
        "*Python*"
      ]
    },
    {
    "cell_type": "code",
    "metadata": {
      "id": "cd22f66df9a7"
      },
      "source": [
      "from scitbx.array_family import flex;\n",
      "from scitbx.linalg import eigensystem;\n",
      "m = flex.double(($1:-2, -4, 2, -2, 1, 2, 4, 2, 5));\n",
      "m.reshape(flex.grid(3,3));\n",
      "es = eigensystem.real_symmetric(m);\n",
      "list(es.values());\n",
      "list(es.vectors());\n",
      "$0"
      ]
    },
    {
    "cell_type": "markdown",
    "metadata": {
      "id": "ff26883bc8e2"
      },
      "source": [
        "##IpIm\n",
        "\n",
        "Scatter plot of I(+) and (I(-). The presence of an anomalous signal is indicated by deviations from x=y.\n",
        "\n",
        "*Python*"
      ]
    },
    {
    "cell_type": "code",
    "metadata": {
      "id": "48ac16ace976"
      },
      "source": [
      "%matplotlib inline\n",
      "import matplotlib.pyplot as plt\n",
      "import matplotlib as mpl\n",
      "import matplotlib.ticker as ticker\n",
      "from matplotlib.ticker import MultipleLocator #, FormatStrFormatter\n",
      "from matplotlib.ticker import FuncFormatter\n",
      "from iotbx.reflection_file_reader import any_reflection_file\n",
      "\n",
      "# >>> change the mtz file name\n",
      "hkl_file = any_reflection_file('3hz7.mtz')\n",
      "miller_arrays = hkl_file.as_miller_arrays(merge_equivalents=False)\n",
      "Iobs = miller_arrays[1]\n",
      "i_plus, i_minus = Iobs.hemispheres_acentrics()\n",
      "ipd = i_plus.data()\n",
      "ip=list(ipd)\n",
      "imd = i_minus.data()\n",
      "im = list(imd)\n",
      "len(im)\n",
      "\n",
      "comma_fmt = FuncFormatter(lambda x, p: format(int(x), ','))\n",
      "\n",
      "mpl.rcParams['savefig.dpi'] = 600\n",
      "mpl.rcParams['figure.dpi'] = 600\n",
      "\n",
      "# Set to width of a one column on a two-column page.\n",
      "# May want to adjust settings for a slide.\n",
      "fig, ax = plt.subplots(figsize=[3.25, 3.25])\n",
      "ax.scatter(ip,im,c='k',alpha=0.3,s=5.5)\n",
      "ax.set_xlabel(r'I(+)',fontsize=12)\n",
      "ax.set_ylabel(r'I(-)',fontsize=12)\n",
      "ax.xaxis.set_major_locator(MultipleLocator(50000.))\n",
      "ax.yaxis.set_major_locator(MultipleLocator(50000.))\n",
      "ax.get_xaxis().set_major_formatter(comma_fmt)\n",
      "ax.get_yaxis().set_major_formatter(comma_fmt)\n",
      "\n",
      "plt.xticks(fontsize=12)\n",
      "plt.yticks(fontsize=12)\n",
      "ax.grid(False)\n",
      "\n",
      "# >>> change name of the figure file\n",
      "plt.savefig('3hz7IpIm.pdf',bbox_inches='tight')\n",
      "$0"
      ]
    },
    {
    "cell_type": "markdown",
    "metadata": {
      "id": "2c55e8d83e7e"
      },
      "source": [
        "##fetchFASTA\n",
        "\n",
        "Fetch fasta file from RCSB.\n",
        "\n",
        "*Python*"
      ]
    },
    {
    "cell_type": "code",
    "metadata": {
      "id": "149d839415cd"
      },
      "source": [
      "from iotbx.pdb.fetch import get_pdb\n",
      "import sys\n",
      "get_pdb(id='3nd4',data_type='pdb', mirror='rcsb', format='pdb', log=sys.stdout)\n",
      "$0"
      ]
    },
    {
    "cell_type": "markdown",
    "metadata": {
      "id": "8589680aa30e"
      },
      "source": [
        "##fetchXrayCif\n",
        "\n",
        "Fetch X-ray data from RCSB in mmCIF format.\n",
        "\n",
        "*Python*"
      ]
    },
    {
    "cell_type": "code",
    "metadata": {
      "id": "7f67343d766a"
      },
      "source": [
      "from iotbx.pdb.fetch import get_pdb\n",
      "import sys\n",
      "get_pdb(id='3nd4',data_type='xray', mirror='rcsb', format='cif', log=sys.stdout)\n",
      "$0"
      ]
    },
    {
    "cell_type": "markdown",
    "metadata": {
      "id": "14ffaa8f0895"
      },
      "source": [
        "##fetchAtomicCif\n",
        "\n",
        "Fetch  atomic coordinates from RCSB in mmCIF format.\n",
        "\n",
        "*Python*"
      ]
    },
    {
    "cell_type": "code",
    "metadata": {
      "id": "178f0f823eb"
      },
      "source": [
      "from iotbx.pdb.fetch import get_pdb\n",
      "import sys\n",
      "get_pdb(id='3nd4',data_type='xray', mirror='rcsb', format='cif', log=sys.stdout)\n",
      "$0"
      ]
    },
    {
    "cell_type": "markdown",
    "metadata": {
      "id": "793367c39f73"
      },
      "source": [
        "##symmetryFromPDB\n",
        "\n",
        "Print the symmetry from a PDB file.\n",
        "\n",
        "*Python*"
      ]
    },
    {
    "cell_type": "code",
    "metadata": {
      "id": "3fa768e1b4e9"
      },
      "source": [
      "import iotbx\n",
      "iotbx.pdb.crystal_symmetry_from_pdb.extract_from('3nd4.pdb')\n",
      "$0"
      ]
    },
    {
    "cell_type": "markdown",
    "metadata": {
      "id": "68e4a1ae9ff4"
      },
      "source": [
        "##makeMaps\n",
        "\n",
        "Read in mtz and pdb file and write map coefficients to a separate mtz file.\n",
        "\n",
        "*Python*"
      ]
    },
    {
    "cell_type": "code",
    "metadata": {
      "id": "77f81e607484"
      },
      "source": [
      "from mmtbx.maps.utils import create_map_from_pdb_and_mtz\n",
      "\"\"\"The phenix.maps commandline tool is the recommended approach.\"\"\"\n",
      "id='3nd4'\n",
      "create_map_from_pdb_and_mtz(\n",
      "          pdb_file='%s.pdb' % id,\n",
      "          mtz_file='%s.mtz' % id,\n",
      "          output_file='%s_maps.mtz' % id,\n",
      "          fill=False,\n",
      "          out=None,\n",
      "          llg_map=False,\n",
      "          remove_unknown_scatterering_type=True,\n",
      "          assume_pdb_data=False)\n",
      "$0"
      ]
    },
    {
    "cell_type": "markdown",
    "metadata": {
      "id": "973e1a812170"
      },
      "source": [
        "##testCCTBX\n",
        "\n",
        "Enter this snippet on the command line in an empty directory.\n",
        "\n",
        "*Python*"
      ]
    },
    {
    "cell_type": "code",
    "metadata": {
      "id": "747293ef97e9"
      },
      "source": [
      "libtbx.run_tests_parallel module=libtbx module=cctbx nproc=6\n",
      "$0"
      ]
    },
    {
    "cell_type": "markdown",
    "metadata": {
      "id": "2b5eea271043"
      },
      "source": [
        "##condaInstall4Ununtu\n",
        "\n",
        "Enter this snippet on the command line in an empty directory.\n",
        "\n",
        "*Python*"
      ]
    },
    {
    "cell_type": "code",
    "metadata": {
      "id": "add7f8c8e817"
      },
      "source": [
      "apt install nodejs git\n",
      "wget https://repo.anaconda.com/archive/Anaconda3-2020.02-Linux-x86_64.sh\n",
      "bash Anaconda3-2020.02-Linux-x86_64.sh\n",
      "conda create -n pc37 python=3.7 schrodinger::pymol-bundle=2.4.1 conda-forge::cctbx-base conda-forge::jupyter\n",
      "conda activate pc37\n",
      "conda install conda-forge::jupyterlab=2.2.0\n",
      "# The following may be needed\n",
      "# jupyter serverextension enable --py jupyterlab --user \n",
      "pip install jupyterlab-snippets-multimenus\n",
      "jupyter lab build\n",
      "# Might be needed\n",
      "# jupyter lab clean\n",
      "jupyter --path # select the top option under Data for storing the libraries\n",
      "cd ~/.local/share/jupyter # change as per output from prior line\n",
      "mkdir multimenus_snippets\n",
      "cd multimenus_snippets\n",
      "git clone https://github.com/MooersLab/juptyerlabpymolcctbx.git cctbx\n",
      "git clone https://github.com/MooersLab/juptyerlabpymolcctbxplus.git cctbx+\n",
      "git clone https://github.com/MooersLab/juptyerlabpymolpysnips.git pymol\n",
      "git clone https://github.com/MooersLab/juptyerlabpymolpysnipsplus.git pymol+\n",
      "jupyter lab # or libtbx.python -m jupyter-lab\n",
      "$0"
      ]
    },
    {
    "cell_type": "markdown",
    "metadata": {
      "id": "fe6511da1ba2"
      },
      "source": [
        "##condaListEnvs\n",
        "\n",
        "List the currently available envs. The bang (!) enables running this command in a Juptyer Notebook. Delete the bang to run the command in the terminal.\n",
        "\n",
        "*Python*"
      ]
    },
    {
    "cell_type": "code",
    "metadata": {
      "id": "486911cc34ee"
      },
      "source": [
      "!conda env list"
      ]
    },
    {
    "cell_type": "markdown",
    "metadata": {
      "id": "d1cabadae8c5"
      },
      "source": [
        "##condaRemoveEnv\n",
        "\n",
        "Remove a specified env. The bang (!) enables running this command in a Juptyer Notebook. Delete the bang to run the command in the terminal.\n",
        "\n",
        "*Python*"
      ]
    },
    {
    "cell_type": "code",
    "metadata": {
      "id": "99469722001"
      },
      "source": [
      "!conda env remove --name cctbx37"
      ]
    },
    {
    "cell_type": "markdown",
    "metadata": {
      "id": "c5bd6bbb54c"
      },
      "source": [
        "##condaInstallCCTBXInsidePyMOL\n",
        "\n",
        "Install cctbx inside PyMOL. This protocol worked on a Mac OS.\n",
        "\n",
        "*Python*"
      ]
    },
    {
    "cell_type": "code",
    "metadata": {
      "id": "ac2e2b80916b"
      },
      "source": [
      "# At the PyMOL prompt in the PyMOL GUI paste the following:\n",
      "conda install conda-forge::cctbx-base conda-forge::jupyter \n",
      "conda install conda-forge::jupyterlab=2.2.0\n",
      "conda install conda-forge::cctbx-base\n",
      "# In a terminal\n",
      "/Applications/PyMOL.app/Contents/bin/jupyter serverextension enable --py jupyterlab --user\n",
      "/Applications/PyMOL.app/Contents/bin/ipython kernel install --name pymol --user\n",
      "/Applications/PyMOL.app/Contents/bin/pip install jupyterlab-snippets-multimenus\n",
      "/Applications/PyMOL.app/Contents/bin/jupyter lab build\n",
      "/Applications/PyMOL.app/Contents/bin/jupyter lab clean\n",
      "/Applications/PyMOL.app/Contents/bin/jupyter --path # select the top option under Data for storing the libraries\n",
      "cd ~.local/share/jupyter # change as per output from prior line\n",
      "mkdir multimenus_snippets\n",
      "cd multimenus_snippets\n",
      "git clone https://github.com/MooersLab/juptyerlabpymolcctbx.git cctbx\n",
      "git clone https://github.com/MooersLab/juptyerlabpymolcctbxplus.git cctbx+\n",
      "git clone https://github.com/MooersLab/juptyerlabpymolpysnips.git pymol\n",
      "git clone https://github.com/MooersLab/juptyerlabpymolpysnipsplus.git pymol+\n",
      "/Applications/PyMOL.app/Contents/bin/ipython kernel install --name pymol37 --user\n",
      "$0"
      ]
    },
    {
    "cell_type": "markdown",
    "metadata": {
      "id": "a4e0b3e11b65"
      },
      "source": [
        "##testCCTBXpython38\n",
        "\n",
        "Bash script to test new install with Python3.8.\n",
        "\n",
        "*Python*"
      ]
    },
    {
    "cell_type": "code",
    "metadata": {
      "id": "265d00adfa8e"
      },
      "source": [
      "#! /bin/sh\n",
      "set noglob\n",
      "set verbose\n",
      "libtbx.python $CONDA_PREFIX/lib/python3.8/site-packages/libtbx/run_tests.py\n",
      "libtbx.python $CONDA_PREFIX/lib/python3.8/site-packages/iotbx/run_tests.py\n",
      "libtbx.python $CONDA_PREFIX/lib/python3.8/site-packages/boost_adptbx/run_tests.py\n",
      "libtbx.python $CONDA_PREFIX/lib/python3.8/site-packages/fable/run_tests.py\n",
      "libtbx.python $CONDA_PREFIX/lib/python3.8/site-packages/scitbx/run_tests.py\n",
      "libtbx.python $CONDA_PREFIX/lib/python3.8/site-packages/cctbx/run_tests.py\n",
      "libtbx.python $CONDA_PREFIX/lib/python3.8/site-packages/cctbx/run_examples.py\n",
      "libtbx.python $CONDA_PREFIX/lib/python3.8/site-packages/smtbx/run_tests.py\n",
      "libtbx.python $CONDA_PREFIX/lib/python3.8/site-packages/cflib_adaptbx/run_tests.py\n",
      "libtbx.python $CONDA_PREFIX/lib/python3.8/site-packages/reduce/run_tests.py\n",
      "libtbx.python $CONDA_PREFIX/lib/python3.8/site-packages/mmtbx/run_tests.py\n",
      "libtbx.python $CONDA_PREFIX/lib/python3.8/site-packages/cctbx_website/run_tests.py\n",
      "libtbx.python $CONDA_PREFIX/lib/python3.8/site-packages/gltbx/run_tests.py"
      ]
    },
    {
    "cell_type": "markdown",
    "metadata": {
      "id": "6fcc6eb36dad"
      },
      "source": [
        "##testCCTBXpython37\n",
        "\n",
        "Bash script to test new install with Python3.7.\n",
        "\n",
        "*Python*"
      ]
    },
    {
    "cell_type": "code",
    "metadata": {
      "id": "b40615bba188"
      },
      "source": [
      "#! /bin/sh\n",
      "set noglob\n",
      "set verbose\n",
      "libtbx.python $CONDA_PREFIX/lib/python3.7/site-packages/libtbx/run_tests.py\n",
      "libtbx.python $CONDA_PREFIX/lib/python3.7/site-packages/iotbx/run_tests.py\n",
      "libtbx.python $CONDA_PREFIX/lib/python3.7/site-packages/boost_adptbx/run_tests.py\n",
      "libtbx.python $CONDA_PREFIX/lib/python3.7/site-packages/fable/run_tests.py\n",
      "libtbx.python $CONDA_PREFIX/lib/python3.7/site-packages/scitbx/run_tests.py\n",
      "libtbx.python $CONDA_PREFIX/lib/python3.7/site-packages/cctbx/run_tests.py\n",
      "libtbx.python $CONDA_PREFIX/lib/python3.7/site-packages/cctbx/run_examples.py\n",
      "libtbx.python $CONDA_PREFIX/lib/python3.7/site-packages/smtbx/run_tests.py\n",
      "libtbx.python $CONDA_PREFIX/lib/python3.7/site-packages/cflib_adaptbx/run_tests.py\n",
      "libtbx.python $CONDA_PREFIX/lib/python3.7/site-packages/reduce/run_tests.py\n",
      "libtbx.python $CONDA_PREFIX/lib/python3.7/site-packages/mmtbx/run_tests.py\n",
      "libtbx.python $CONDA_PREFIX/lib/python3.7/site-packages/cctbx_website/run_tests.py\n",
      "libtbx.python $CONDA_PREFIX/lib/python3.7/site-packages/gltbx/run_tests.py"
      ]
    },
    {
    "cell_type": "markdown",
    "metadata": {
      "id": "e3c533a90356"
      },
      "source": [
        "##gemmiInstall\n",
        "\n",
        "Command to install gemmi (https://github.com/project-gemmi/gemmi). Documentation is located here (https://gemmi.readthedocs.io/en/latest/install.html).\n",
        "\n",
        "*Python*"
      ]
    },
    {
    "cell_type": "code",
    "metadata": {
      "id": "970a9b2d047b"
      },
      "source": [
      "# Install from PyPi\n",
      "pip install gemmi\n",
      "# OR install the latest version directly from github.\n",
      "pip install git+https://github.com/project-gemmi/gemmi.git"
      ]
    },
    {
    "cell_type": "markdown",
    "metadata": {
      "id": "abb0078f7182"
      },
      "source": [
        "##fixPermissionsOnMacSDK\n",
        "\n",
        "Fix permission on MacOS SDK. Adjust the version number of the sdk as needed.\n",
        "\n",
        "*Python*"
      ]
    },
    {
    "cell_type": "code",
    "metadata": {
      "id": "e18e974bc460"
      },
      "source": [
      "cd /Applications/Xcode.app/Contents/Developer/Platforms/MacOSX.platform/Developer/SDKs/\n",
      "sudo ln -s MacOSX.sdk MacOSX10.15.sdk"
      ]
    },
    {
    "cell_type": "markdown",
    "metadata": {
      "id": "b29d54276933"
      },
      "source": [
        "##averageB\n",
        "\n",
        "Print the average B factor for all atoms.\n",
        "\n",
        "*Python*"
      ]
    },
    {
    "cell_type": "code",
    "metadata": {
      "id": "7ba36b9fbe83"
      },
      "source": [
      "from iotbx import pdb\n",
      "pdb_name = \"~/Downloads/4RBQ.pdb\"\n",
      "pdb_inp = pdb.input(file_name=pdb_name)\n",
      "atoms = pdb_inp.atoms()\n",
      "bfactors = atoms.extract_b()\n",
      "bfactors.format_mean('%6.2f Ang.^2')\n",
      "$0"
      ]
    },
    {
    "cell_type": "markdown",
    "metadata": {
      "id": "1cd5b25f5a40"
      },
      "source": [
        "##lastsnip\n",
        "\n",
        "This is a place holdhoder snippet because the last snippet in the list cannot have a comma after it.\n",
        "\n",
        "*PyMOL*"
      ]
    }
  ]
}
